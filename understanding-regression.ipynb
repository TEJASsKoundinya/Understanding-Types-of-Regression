{
 "cells": [
  {
   "cell_type": "markdown",
   "id": "1cb1b456",
   "metadata": {
    "papermill": {
     "duration": 0.007662,
     "end_time": "2022-09-18T07:48:09.481656",
     "exception": false,
     "start_time": "2022-09-18T07:48:09.473994",
     "status": "completed"
    },
    "tags": []
   },
   "source": [
    "# Understanding of regression model for implementation in medical insurance chain \n",
    "In the notebook we try to find the highest relation w.r.t attribute of cost and others.\n",
    "1. Multi-Linear-regression\n",
    "2. Linea-regression\n",
    "3. Polynomial-regression\n",
    "\n",
    "## Multi-linear-regression "
   ]
  },
  {
   "cell_type": "code",
   "execution_count": 1,
   "id": "863dddfe",
   "metadata": {
    "execution": {
     "iopub.execute_input": "2022-09-18T07:48:09.497205Z",
     "iopub.status.busy": "2022-09-18T07:48:09.496450Z",
     "iopub.status.idle": "2022-09-18T07:48:09.510510Z",
     "shell.execute_reply": "2022-09-18T07:48:09.509061Z"
    },
    "papermill": {
     "duration": 0.025251,
     "end_time": "2022-09-18T07:48:09.513519",
     "exception": false,
     "start_time": "2022-09-18T07:48:09.488268",
     "status": "completed"
    },
    "tags": []
   },
   "outputs": [],
   "source": [
    "import pandas as pd\n",
    "import numpy as np\n",
    "import matplotlib.pyplot as plt\n",
    "import statistics"
   ]
  },
  {
   "cell_type": "code",
   "execution_count": 2,
   "id": "fa2de060",
   "metadata": {
    "execution": {
     "iopub.execute_input": "2022-09-18T07:48:09.530055Z",
     "iopub.status.busy": "2022-09-18T07:48:09.529306Z",
     "iopub.status.idle": "2022-09-18T07:48:09.551959Z",
     "shell.execute_reply": "2022-09-18T07:48:09.550921Z"
    },
    "papermill": {
     "duration": 0.03424,
     "end_time": "2022-09-18T07:48:09.554628",
     "exception": false,
     "start_time": "2022-09-18T07:48:09.520388",
     "status": "completed"
    },
    "tags": []
   },
   "outputs": [],
   "source": [
    "Data = pd.read_csv(\"../input/multilinearwrtmedicalinsurances/insurance.csv\")"
   ]
  },
  {
   "cell_type": "code",
   "execution_count": 3,
   "id": "cb07fdc3",
   "metadata": {
    "execution": {
     "iopub.execute_input": "2022-09-18T07:48:09.569982Z",
     "iopub.status.busy": "2022-09-18T07:48:09.569274Z",
     "iopub.status.idle": "2022-09-18T07:48:09.601572Z",
     "shell.execute_reply": "2022-09-18T07:48:09.600352Z"
    },
    "papermill": {
     "duration": 0.043683,
     "end_time": "2022-09-18T07:48:09.604897",
     "exception": false,
     "start_time": "2022-09-18T07:48:09.561214",
     "status": "completed"
    },
    "tags": []
   },
   "outputs": [
    {
     "name": "stdout",
     "output_type": "stream",
     "text": [
      "      age  sex     bmi  children  smoker  region      charges\n",
      "1248   18    0  39.820         0       0       1   1633.96180\n",
      "482    18    0  31.350         0       0       1   1622.18850\n",
      "492    18    0  25.080         0       0       3   2196.47320\n",
      "525    18    0  33.880         0       0       1  11482.63485\n",
      "529    18    1  25.460         0       0       3   1708.00140\n",
      "...   ...  ...     ...       ...     ...     ...          ...\n",
      "398    64    1  25.600         2       0       2  14988.43200\n",
      "335    64    1  34.500         0       0       2  13822.80300\n",
      "378    64    0  30.115         3       0       4  16455.70785\n",
      "1265   64    1  23.760         0       1       1  26926.51440\n",
      "635    64    1  38.190         0       0       3  14410.93210\n",
      "\n",
      "[1338 rows x 7 columns]\n"
     ]
    }
   ],
   "source": [
    "Data.sort_values(by=['age'], inplace=True)\n",
    "Data['sex'] = Data['sex'].replace('female',0)#0 is female\n",
    "Data['sex'] = Data['sex'].replace('male',1)#1 is male\n",
    "Data['smoker'] = Data['smoker'].replace('no',0)#0 is No\n",
    "Data['smoker'] = Data['smoker'].replace('yes',1)#1 is yes\n",
    "Data['region'] = Data['region'].replace('southeast',1)\n",
    "Data['region'] = Data['region'].replace('southwest',2)\n",
    "Data['region'] = Data['region'].replace('northeast',3)\n",
    "Data['region'] = Data['region'].replace('northwest',4)\n",
    "print(Data)"
   ]
  },
  {
   "cell_type": "code",
   "execution_count": 4,
   "id": "873a1c65",
   "metadata": {
    "execution": {
     "iopub.execute_input": "2022-09-18T07:48:09.621461Z",
     "iopub.status.busy": "2022-09-18T07:48:09.620467Z",
     "iopub.status.idle": "2022-09-18T07:48:09.626499Z",
     "shell.execute_reply": "2022-09-18T07:48:09.625575Z"
    },
    "papermill": {
     "duration": 0.016825,
     "end_time": "2022-09-18T07:48:09.628892",
     "exception": false,
     "start_time": "2022-09-18T07:48:09.612067",
     "status": "completed"
    },
    "tags": []
   },
   "outputs": [],
   "source": [
    "y = Data.iloc[:, -1].values"
   ]
  },
  {
   "cell_type": "code",
   "execution_count": 5,
   "id": "753817e8",
   "metadata": {
    "execution": {
     "iopub.execute_input": "2022-09-18T07:48:09.644100Z",
     "iopub.status.busy": "2022-09-18T07:48:09.643387Z",
     "iopub.status.idle": "2022-09-18T07:48:09.926136Z",
     "shell.execute_reply": "2022-09-18T07:48:09.924880Z"
    },
    "papermill": {
     "duration": 0.293422,
     "end_time": "2022-09-18T07:48:09.928915",
     "exception": false,
     "start_time": "2022-09-18T07:48:09.635493",
     "status": "completed"
    },
    "tags": []
   },
   "outputs": [
    {
     "data": {
      "text/plain": [
       "<matplotlib.collections.PathCollection at 0x7fc851a517d0>"
      ]
     },
     "execution_count": 5,
     "metadata": {},
     "output_type": "execute_result"
    },
    {
     "data": {
      "image/png": "[encoded data removed]",
      "text/plain": [
       "<Figure size 432x288 with 1 Axes>"
      ]
     },
     "metadata": {
      "needs_background": "light"
     },
     "output_type": "display_data"
    }
   ],
   "source": [
    "plt.scatter(Data['bmi'],y)\n",
    "plt.scatter(Data['age'],y)#age is a much liner model"
   ]
  },
  {
   "cell_type": "code",
   "execution_count": 6,
   "id": "0abf644d",
   "metadata": {
    "execution": {
     "iopub.execute_input": "2022-09-18T07:48:09.946382Z",
     "iopub.status.busy": "2022-09-18T07:48:09.945930Z",
     "iopub.status.idle": "2022-09-18T07:48:09.952802Z",
     "shell.execute_reply": "2022-09-18T07:48:09.951635Z"
    },
    "papermill": {
     "duration": 0.018249,
     "end_time": "2022-09-18T07:48:09.955282",
     "exception": false,
     "start_time": "2022-09-18T07:48:09.937033",
     "status": "completed"
    },
    "tags": []
   },
   "outputs": [],
   "source": [
    "x = Data.iloc[:, 0:-1].values\n",
    "y = y.reshape(len(y),1)"
   ]
  },
  {
   "cell_type": "code",
   "execution_count": 7,
   "id": "612724c4",
   "metadata": {
    "execution": {
     "iopub.execute_input": "2022-09-18T07:48:09.971860Z",
     "iopub.status.busy": "2022-09-18T07:48:09.971386Z",
     "iopub.status.idle": "2022-09-18T07:48:11.113971Z",
     "shell.execute_reply": "2022-09-18T07:48:11.112858Z"
    },
    "papermill": {
     "duration": 1.154536,
     "end_time": "2022-09-18T07:48:11.117137",
     "exception": false,
     "start_time": "2022-09-18T07:48:09.962601",
     "status": "completed"
    },
    "tags": []
   },
   "outputs": [],
   "source": [
    "from sklearn.model_selection import train_test_split\n",
    "x_train, x_test, y_train, y_test = train_test_split(x, y, test_size = 0.25, random_state = 0)"
   ]
  },
  {
   "cell_type": "code",
   "execution_count": 8,
   "id": "ab6c209f",
   "metadata": {
    "execution": {
     "iopub.execute_input": "2022-09-18T07:48:11.134306Z",
     "iopub.status.busy": "2022-09-18T07:48:11.133787Z",
     "iopub.status.idle": "2022-09-18T07:48:11.230201Z",
     "shell.execute_reply": "2022-09-18T07:48:11.228708Z"
    },
    "papermill": {
     "duration": 0.108586,
     "end_time": "2022-09-18T07:48:11.233095",
     "exception": false,
     "start_time": "2022-09-18T07:48:11.124509",
     "status": "completed"
    },
    "tags": []
   },
   "outputs": [
    {
     "data": {
      "text/plain": [
       "LinearRegression()"
      ]
     },
     "execution_count": 8,
     "metadata": {},
     "output_type": "execute_result"
    }
   ],
   "source": [
    "from sklearn.linear_model import LinearRegression\n",
    "reg = LinearRegression()\n",
    "reg.fit(x_train, y_train)"
   ]
  },
  {
   "cell_type": "code",
   "execution_count": 9,
   "id": "34a4834a",
   "metadata": {
    "execution": {
     "iopub.execute_input": "2022-09-18T07:48:11.250512Z",
     "iopub.status.busy": "2022-09-18T07:48:11.249670Z",
     "iopub.status.idle": "2022-09-18T07:48:11.254737Z",
     "shell.execute_reply": "2022-09-18T07:48:11.253867Z"
    },
    "papermill": {
     "duration": 0.01653,
     "end_time": "2022-09-18T07:48:11.256990",
     "exception": false,
     "start_time": "2022-09-18T07:48:11.240460",
     "status": "completed"
    },
    "tags": []
   },
   "outputs": [],
   "source": [
    "y_pred = reg.predict(x_test)\n",
    "np.set_printoptions(precision=2)\n",
    "#print(np.concatenate((y_pred.reshape(len(y_pred),1), y_test.reshape(len(y_test),1)),1))"
   ]
  },
  {
   "cell_type": "code",
   "execution_count": 10,
   "id": "ddcb02f1",
   "metadata": {
    "execution": {
     "iopub.execute_input": "2022-09-18T07:48:11.273888Z",
     "iopub.status.busy": "2022-09-18T07:48:11.273155Z",
     "iopub.status.idle": "2022-09-18T07:48:11.281317Z",
     "shell.execute_reply": "2022-09-18T07:48:11.280417Z"
    },
    "papermill": {
     "duration": 0.019181,
     "end_time": "2022-09-18T07:48:11.283514",
     "exception": false,
     "start_time": "2022-09-18T07:48:11.264333",
     "status": "completed"
    },
    "tags": []
   },
   "outputs": [
    {
     "data": {
      "text/plain": [
       "0.7948868927221111"
      ]
     },
     "execution_count": 10,
     "metadata": {},
     "output_type": "execute_result"
    }
   ],
   "source": [
    "reg.score(x_test, y_test)"
   ]
  },
  {
   "cell_type": "code",
   "execution_count": 11,
   "id": "7ae601aa",
   "metadata": {
    "execution": {
     "iopub.execute_input": "2022-09-18T07:48:11.299981Z",
     "iopub.status.busy": "2022-09-18T07:48:11.299527Z",
     "iopub.status.idle": "2022-09-18T07:48:11.304342Z",
     "shell.execute_reply": "2022-09-18T07:48:11.303214Z"
    },
    "papermill": {
     "duration": 0.015726,
     "end_time": "2022-09-18T07:48:11.306494",
     "exception": false,
     "start_time": "2022-09-18T07:48:11.290768",
     "status": "completed"
    },
    "tags": []
   },
   "outputs": [],
   "source": [
    "x_test=np. ravel(x_test)\n",
    "y_pred=np. ravel(y_pred)"
   ]
  },
  {
   "cell_type": "code",
   "execution_count": 12,
   "id": "a5a389f8",
   "metadata": {
    "execution": {
     "iopub.execute_input": "2022-09-18T07:48:11.323242Z",
     "iopub.status.busy": "2022-09-18T07:48:11.322020Z",
     "iopub.status.idle": "2022-09-18T07:48:11.329997Z",
     "shell.execute_reply": "2022-09-18T07:48:11.328784Z"
    },
    "papermill": {
     "duration": 0.018582,
     "end_time": "2022-09-18T07:48:11.332215",
     "exception": false,
     "start_time": "2022-09-18T07:48:11.313633",
     "status": "completed"
    },
    "tags": []
   },
   "outputs": [
    {
     "data": {
      "text/plain": [
       "(2010,)"
      ]
     },
     "execution_count": 12,
     "metadata": {},
     "output_type": "execute_result"
    }
   ],
   "source": [
    "x_test.shape"
   ]
  },
  {
   "cell_type": "code",
   "execution_count": 13,
   "id": "851fd5a3",
   "metadata": {
    "execution": {
     "iopub.execute_input": "2022-09-18T07:48:11.349804Z",
     "iopub.status.busy": "2022-09-18T07:48:11.348881Z",
     "iopub.status.idle": "2022-09-18T07:48:11.355669Z",
     "shell.execute_reply": "2022-09-18T07:48:11.354548Z"
    },
    "papermill": {
     "duration": 0.018394,
     "end_time": "2022-09-18T07:48:11.357939",
     "exception": false,
     "start_time": "2022-09-18T07:48:11.339545",
     "status": "completed"
    },
    "tags": []
   },
   "outputs": [
    {
     "data": {
      "text/plain": [
       "(335,)"
      ]
     },
     "execution_count": 13,
     "metadata": {},
     "output_type": "execute_result"
    }
   ],
   "source": [
    "y_pred.shape"
   ]
  },
  {
   "cell_type": "markdown",
   "id": "54fd830d",
   "metadata": {
    "papermill": {
     "duration": 0.006882,
     "end_time": "2022-09-18T07:48:11.372076",
     "exception": false,
     "start_time": "2022-09-18T07:48:11.365194",
     "status": "completed"
    },
    "tags": []
   },
   "source": [
    "## Linear-regression \n",
    "Taking only one variable linear model smoking have high similarity with the data in hand"
   ]
  },
  {
   "cell_type": "code",
   "execution_count": 14,
   "id": "21e2bb55",
   "metadata": {
    "execution": {
     "iopub.execute_input": "2022-09-18T07:48:11.388839Z",
     "iopub.status.busy": "2022-09-18T07:48:11.388146Z",
     "iopub.status.idle": "2022-09-18T07:48:11.393664Z",
     "shell.execute_reply": "2022-09-18T07:48:11.392863Z"
    },
    "papermill": {
     "duration": 0.016711,
     "end_time": "2022-09-18T07:48:11.395984",
     "exception": false,
     "start_time": "2022-09-18T07:48:11.379273",
     "status": "completed"
    },
    "tags": []
   },
   "outputs": [],
   "source": [
    "x1 = Data.iloc[:, 4:-2].values"
   ]
  },
  {
   "cell_type": "code",
   "execution_count": 15,
   "id": "d1fa26de",
   "metadata": {
    "execution": {
     "iopub.execute_input": "2022-09-18T07:48:11.412959Z",
     "iopub.status.busy": "2022-09-18T07:48:11.412268Z",
     "iopub.status.idle": "2022-09-18T07:48:11.418592Z",
     "shell.execute_reply": "2022-09-18T07:48:11.417820Z"
    },
    "papermill": {
     "duration": 0.017438,
     "end_time": "2022-09-18T07:48:11.420836",
     "exception": false,
     "start_time": "2022-09-18T07:48:11.403398",
     "status": "completed"
    },
    "tags": []
   },
   "outputs": [],
   "source": [
    "from sklearn.model_selection import train_test_split\n",
    "x1_train, x1_test, y_train, y_test = train_test_split(x1, y, test_size = 0.25, random_state = 0)"
   ]
  },
  {
   "cell_type": "code",
   "execution_count": 16,
   "id": "3dc6d8b2",
   "metadata": {
    "execution": {
     "iopub.execute_input": "2022-09-18T07:48:11.437768Z",
     "iopub.status.busy": "2022-09-18T07:48:11.437111Z",
     "iopub.status.idle": "2022-09-18T07:48:11.445328Z",
     "shell.execute_reply": "2022-09-18T07:48:11.444337Z"
    },
    "papermill": {
     "duration": 0.019278,
     "end_time": "2022-09-18T07:48:11.447492",
     "exception": false,
     "start_time": "2022-09-18T07:48:11.428214",
     "status": "completed"
    },
    "tags": []
   },
   "outputs": [
    {
     "data": {
      "text/plain": [
       "LinearRegression()"
      ]
     },
     "execution_count": 16,
     "metadata": {},
     "output_type": "execute_result"
    }
   ],
   "source": [
    "from sklearn.linear_model import LinearRegression\n",
    "reg = LinearRegression()\n",
    "reg.fit(x1_train, y_train)"
   ]
  },
  {
   "cell_type": "code",
   "execution_count": 17,
   "id": "057ebb02",
   "metadata": {
    "execution": {
     "iopub.execute_input": "2022-09-18T07:48:11.464698Z",
     "iopub.status.busy": "2022-09-18T07:48:11.464018Z",
     "iopub.status.idle": "2022-09-18T07:48:11.469408Z",
     "shell.execute_reply": "2022-09-18T07:48:11.468602Z"
    },
    "papermill": {
     "duration": 0.0166,
     "end_time": "2022-09-18T07:48:11.471533",
     "exception": false,
     "start_time": "2022-09-18T07:48:11.454933",
     "status": "completed"
    },
    "tags": []
   },
   "outputs": [],
   "source": [
    "y_pred = reg.predict(x1_test)\n",
    "np.set_printoptions(precision=2)\n",
    "#print(np.concatenate((y_pred.reshape(len(y_pred),1), y_test.reshape(len(y_test),1)),1))"
   ]
  },
  {
   "cell_type": "code",
   "execution_count": 18,
   "id": "6697156c",
   "metadata": {
    "execution": {
     "iopub.execute_input": "2022-09-18T07:48:11.488678Z",
     "iopub.status.busy": "2022-09-18T07:48:11.488014Z",
     "iopub.status.idle": "2022-09-18T07:48:11.495563Z",
     "shell.execute_reply": "2022-09-18T07:48:11.494602Z"
    },
    "papermill": {
     "duration": 0.018709,
     "end_time": "2022-09-18T07:48:11.497730",
     "exception": false,
     "start_time": "2022-09-18T07:48:11.479021",
     "status": "completed"
    },
    "tags": []
   },
   "outputs": [
    {
     "data": {
      "text/plain": [
       "0.6488013359015306"
      ]
     },
     "execution_count": 18,
     "metadata": {},
     "output_type": "execute_result"
    }
   ],
   "source": [
    "reg.score(x1_test, y_test)"
   ]
  },
  {
   "cell_type": "code",
   "execution_count": 19,
   "id": "a68d3fbd",
   "metadata": {
    "execution": {
     "iopub.execute_input": "2022-09-18T07:48:11.514827Z",
     "iopub.status.busy": "2022-09-18T07:48:11.514142Z",
     "iopub.status.idle": "2022-09-18T07:48:11.519711Z",
     "shell.execute_reply": "2022-09-18T07:48:11.518880Z"
    },
    "papermill": {
     "duration": 0.016714,
     "end_time": "2022-09-18T07:48:11.521916",
     "exception": false,
     "start_time": "2022-09-18T07:48:11.505202",
     "status": "completed"
    },
    "tags": []
   },
   "outputs": [],
   "source": [
    "x2 = Data.iloc[:, 0:-6].values\n",
    "x2 = np. ravel(x2)"
   ]
  },
  {
   "cell_type": "code",
   "execution_count": 20,
   "id": "49e71288",
   "metadata": {
    "execution": {
     "iopub.execute_input": "2022-09-18T07:48:11.539408Z",
     "iopub.status.busy": "2022-09-18T07:48:11.538725Z",
     "iopub.status.idle": "2022-09-18T07:48:11.544163Z",
     "shell.execute_reply": "2022-09-18T07:48:11.543354Z"
    },
    "papermill": {
     "duration": 0.016866,
     "end_time": "2022-09-18T07:48:11.546341",
     "exception": false,
     "start_time": "2022-09-18T07:48:11.529475",
     "status": "completed"
    },
    "tags": []
   },
   "outputs": [],
   "source": [
    "y1 = Data.iloc[:, -1].values\n",
    "y1 = np.ravel(y1)"
   ]
  },
  {
   "cell_type": "markdown",
   "id": "6894ba66",
   "metadata": {
    "papermill": {
     "duration": 0.007336,
     "end_time": "2022-09-18T07:48:11.561284",
     "exception": false,
     "start_time": "2022-09-18T07:48:11.553948",
     "status": "completed"
    },
    "tags": []
   },
   "source": [
    "## Polynomial-regression\n",
    "observing the best possible fit for the data"
   ]
  },
  {
   "cell_type": "code",
   "execution_count": 21,
   "id": "56fc568d",
   "metadata": {
    "execution": {
     "iopub.execute_input": "2022-09-18T07:48:11.578805Z",
     "iopub.status.busy": "2022-09-18T07:48:11.578103Z",
     "iopub.status.idle": "2022-09-18T07:48:11.585415Z",
     "shell.execute_reply": "2022-09-18T07:48:11.584456Z"
    },
    "papermill": {
     "duration": 0.019067,
     "end_time": "2022-09-18T07:48:11.587917",
     "exception": false,
     "start_time": "2022-09-18T07:48:11.568850",
     "status": "completed"
    },
    "tags": []
   },
   "outputs": [],
   "source": [
    "mymodel = np.poly1d(np.polyfit(x2, y1, 3))"
   ]
  },
  {
   "cell_type": "code",
   "execution_count": 22,
   "id": "1ed3f2c3",
   "metadata": {
    "execution": {
     "iopub.execute_input": "2022-09-18T07:48:11.605444Z",
     "iopub.status.busy": "2022-09-18T07:48:11.604736Z",
     "iopub.status.idle": "2022-09-18T07:48:11.792620Z",
     "shell.execute_reply": "2022-09-18T07:48:11.791178Z"
    },
    "papermill": {
     "duration": 0.199949,
     "end_time": "2022-09-18T07:48:11.795495",
     "exception": false,
     "start_time": "2022-09-18T07:48:11.595546",
     "status": "completed"
    },
    "tags": []
   },
   "outputs": [
    {
     "data": {
      "image/png": "[encoded data removed]",
      "text/plain": [
       "<Figure size 432x288 with 1 Axes>"
      ]
     },
     "metadata": {
      "needs_background": "light"
     },
     "output_type": "display_data"
    }
   ],
   "source": [
    "myline = np.linspace(15, 70, 35)\n",
    "\n",
    "plt.scatter(x2,y1)\n",
    "plt.plot(myline, mymodel(myline))\n",
    "\n",
    "plt.show()\n",
    "#as age increases the charge also increases "
   ]
  }
 ],
 "metadata": {
  "kernelspec": {
   "display_name": "Python 3",
   "language": "python",
   "name": "python3"
  },
  "language_info": {
   "codemirror_mode": {
    "name": "ipython",
    "version": 3
   },
   "file_extension": ".py",
   "mimetype": "text/x-python",
   "name": "python",
   "nbconvert_exporter": "python",
   "pygments_lexer": "ipython3",
   "version": "3.7.12"
  },
  "papermill": {
   "default_parameters": {},
   "duration": 12.210979,
   "end_time": "2022-09-18T07:48:12.527080",
   "environment_variables": {},
   "exception": null,
   "input_path": "__notebook__.ipynb",
   "output_path": "__notebook__.ipynb",
   "parameters": {},
   "start_time": "2022-09-18T07:48:00.316101",
   "version": "2.3.4"
  }
 },
 "nbformat": 4,
 "nbformat_minor": 5
}
